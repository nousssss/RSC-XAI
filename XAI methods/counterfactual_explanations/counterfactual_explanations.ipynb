{
  "nbformat": 4,
  "nbformat_minor": 0,
  "metadata": {
    "colab": {
      "provenance": []
    },
    "kernelspec": {
      "name": "python3",
      "display_name": "Python 3"
    },
    "language_info": {
      "name": "python"
    }
  },
  "cells": [
    {
      "cell_type": "code",
      "execution_count": null,
      "metadata": {
        "id": "Ul5_ifHtRgIO"
      },
      "outputs": [],
      "source": [
        "# Load libraries\n",
        "from tensorflow import keras\n",
        "from tensorflow.keras.models import load_model\n",
        "from mlxtend.evaluate import create_counterfactual\n",
        "import numpy as np\n",
        "import matplotlib.pyplot as plt\n",
        "\n",
        "# Load pretrained model\n",
        "model = load_model('breast_cancer_model.h5')\n",
        "\n",
        "# Load sample image\n",
        "img = plt.imread('sample_malignant.png')\n",
        "img = img.reshape(1, 128, 128, 3)\n",
        "\n",
        "# Make prediction\n",
        "pred = model.predict(img)\n",
        "target_label = 1 if pred > 0.5 else 0\n",
        "print('Original prediction:', target_label)\n",
        "\n",
        "# Generate counterfactual\n",
        "cf = create_counterfactual(model, img, target_label)\n",
        "cf_img = cf.reshape(128, 128, 3)\n",
        "\n",
        "# Verify counterfactual produces different prediction\n",
        "cf_pred = model.predict(cf)\n",
        "cf_label = 1 if cf_pred > 0.5 else 0\n",
        "print('Counterfactual prediction:', cf_label)\n",
        "\n",
        "# Visualize counterfactual image\n",
        "plt.imshow(cf_img)\n",
        "plt.show()"
      ]
    }
  ]
}