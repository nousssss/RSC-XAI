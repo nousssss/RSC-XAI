{
  "cells": [
    {
      "cell_type": "markdown",
      "source": [
        "# Notebook for exploring and playing with saliency maps and backprop"
      ],
      "metadata": {
        "id": "Qs-JPkdzd3Vj"
      }
    },
    {
      "cell_type": "code",
      "execution_count": null,
      "source": [
        "import tensorflow as tf\n",
        "import numpy as np\n",
        "import matplotlib.pyplot as plt"
      ],
      "outputs": [],
      "metadata": {
        "id": "wrSweXDCd3Vj"
      }
    },
    {
      "cell_type": "markdown",
      "source": [
        "## A few helper functions to load an arbitrary image and generate a simple grey-value heatmap"
      ],
      "metadata": {
        "id": "p2f6Qq0qd3Vk"
      }
    },
    {
      "cell_type": "markdown",
      "source": [
        "Some helper function to pre and post processing the inputs."
      ],
      "metadata": {
        "id": "X0-mJAt8d3Vl"
      }
    },
    {
      "cell_type": "code",
      "execution_count": null,
      "source": [
        "def prep_input(path):\n",
        "    image = tf.image.decode_png(tf.io.read_file(path))\n",
        "    image = tf.expand_dims(image, axis=0)\n",
        "    image = tf.cast(image, tf.float32)\n",
        "    image = tf.image.resize(image, [224,224])\n",
        "    return image\n",
        "\n",
        "def norm_flat_image(img):\n",
        "    grads_norm = img[:,:,0]+ img[:,:,1]+ img[:,:,2]\n",
        "    grads_norm = (grads_norm - tf.reduce_min(grads_norm))/ (tf.reduce_max(grads_norm)- tf.reduce_min(grads_norm))\n",
        "    return grads_norm\n",
        "\n",
        "def get_lion():\n",
        "    # Wikipedia lion image https://en.wikipedia.org/wiki/Lion#/media/File:Lion_waiting_in_Namibia.jpg\n",
        "    # License: CC BY 2.0 https://creativecommons.org/licenses/by/2.0/deed.en\n",
        "    import urllib.request\n",
        "    filename = 'lion.jpg'\n",
        "    img_url = r\"https://upload.wikimedia.org/wikipedia/commons/7/73/Lion_waiting_in_Namibia.jpg\"\n",
        "    urllib.request.urlretrieve(img_url, filename)\n",
        "\n",
        "def plot_maps(img1, img2,vmin=0.3,vmax=0.7, mix_val=2):\n",
        "    f = plt.figure(figsize=(15,45))\n",
        "    plt.subplot(1,3,1)\n",
        "    plt.imshow(img1,vmin=vmin, vmax=vmax, cmap=\"gray\")\n",
        "    plt.axis(\"off\")\n",
        "    plt.subplot(1,3,2)\n",
        "    plt.imshow(img2, cmap = \"gray\")\n",
        "    plt.axis(\"off\")\n",
        "    plt.subplot(1,3,3)\n",
        "    plt.imshow(img1*mix_val+img2/mix_val, cmap = \"gray\" )\n",
        "    plt.axis(\"off\")"
      ],
      "outputs": [],
      "metadata": {
        "id": "-3Yg6wcOd3Vl"
      }
    },
    {
      "cell_type": "markdown",
      "source": [
        "This example is built upon a DenseNet201. But you can interchange it any other network. Simpliest way would be: change tf.keras.applications.densenet.DenseNet201() to another network such as tf.keras.applications.resnet.ResNet50(). Don't forget to change the preprocess_input accordingly. If you are interested in the imagenet data, have a look here: https://knowyourdata-tfds.withgoogle.com/#tab=STATS&dataset=imagenet2012\n"
      ],
      "metadata": {
        "id": "hWIIAttad3Vm"
      }
    },
    {
      "cell_type": "code",
      "execution_count": null,
      "source": [
        "test_model = tf.keras.applications.densenet.DenseNet201()\n",
        "#test_model.summary()\n",
        "get_lion()\n",
        "img_path = \"lion.jpg\"\n",
        "input_img = prep_input(img_path)\n",
        "input_img = tf.keras.applications.densenet.preprocess_input(input_img)\n",
        "plt.imshow(norm_flat_image(input_img[0]), cmap = \"gray\")\n"
      ],
      "outputs": [],
      "metadata": {
        "id": "pFFMY5hDd3Vn"
      }
    },
    {
      "cell_type": "code",
      "execution_count": null,
      "source": [
        "result = test_model(input_img)\n",
        "max_idx = tf.argmax(result,axis = 1)\n",
        "tf.keras.applications.imagenet_utils.decode_predictions(result.numpy())\n"
      ],
      "outputs": [],
      "metadata": {
        "id": "99pY-VBJd3Vn"
      }
    },
    {
      "cell_type": "markdown",
      "source": [
        "## Guided Backprop:\n",
        "First, we define our own custom ReLU function"
      ],
      "metadata": {
        "id": "YvBaoD8Od3Vo"
      }
    },
    {
      "cell_type": "code",
      "execution_count": null,
      "source": [
        "@tf.custom_gradient\n",
        "def guidedRelu(x):\n",
        "    def grad(dy):\n",
        "        return tf.cast(dy>0,tf.float32)  * tf.cast(x>0,tf.float32) * dy\n",
        "    return tf.nn.relu(x), grad"
      ],
      "outputs": [],
      "metadata": {
        "id": "ZXbUw-GNd3Vp"
      }
    },
    {
      "cell_type": "markdown",
      "source": [
        "Afterwards, we substitute all old, original ReLU functions with our own versions."
      ],
      "metadata": {
        "id": "_2aue0vcd3Vp"
      }
    },
    {
      "cell_type": "code",
      "execution_count": null,
      "source": [
        "layer_dict = [layer for layer in test_model.layers[1:] if hasattr(layer,'activation')]\n",
        "for layer in layer_dict:\n",
        "    if layer.activation == tf.keras.activations.relu:\n",
        "        layer.activation = guidedRelu\n",
        "        print(\"changed\")\n"
      ],
      "outputs": [],
      "metadata": {
        "id": "Vb-xUAGDd3Vq"
      }
    },
    {
      "cell_type": "markdown",
      "source": [
        "After setting everything up, we have to explicitly instruct TF to calculate and keep the gradients for the input image input_img."
      ],
      "metadata": {
        "id": "oEXip7Shd3Vq"
      }
    },
    {
      "cell_type": "code",
      "execution_count": null,
      "source": [
        "with tf.GradientTape() as tape:\n",
        "    tape.watch(input_img)\n",
        "    result = test_model(input_img)\n",
        "    max_score = result[0,max_idx[0]]\n",
        "grads = tape.gradient(max_score, input_img)"
      ],
      "outputs": [],
      "metadata": {
        "id": "9T9lkS2xd3Vq"
      }
    },
    {
      "cell_type": "code",
      "execution_count": null,
      "source": [
        "plot_maps(norm_flat_image(grads[0]), norm_flat_image(input_img[0]))\n"
      ],
      "outputs": [],
      "metadata": {
        "id": "7ODLczWUd3Vr"
      }
    }
  ],
  "metadata": {
    "interpreter": {
      "hash": "45ff46fca10addfa75fca734b4994d002a1f36f7c35cb451d1a02ba85a2ca87b"
    },
    "kernelspec": {
      "name": "python3",
      "display_name": "Python 3.9.2 64-bit ('venv': venv)"
    },
    "language_info": {
      "name": "python",
      "version": "3.9.9",
      "mimetype": "text/x-python",
      "codemirror_mode": {
        "name": "ipython",
        "version": 3
      },
      "pygments_lexer": "ipython3",
      "nbconvert_exporter": "python",
      "file_extension": ".py"
    },
    "orig_nbformat": 4,
    "colab": {
      "provenance": []
    }
  },
  "nbformat": 4,
  "nbformat_minor": 0
}